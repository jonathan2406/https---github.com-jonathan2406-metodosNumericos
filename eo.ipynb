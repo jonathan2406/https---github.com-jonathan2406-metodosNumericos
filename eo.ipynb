{
 "cells": [
  {
   "cell_type": "code",
   "execution_count": null,
   "metadata": {},
   "outputs": [],
   "source": []
  },
  {
   "cell_type": "markdown",
   "metadata": {},
   "source": [
    "Determine el polinomio de Taylor $P_{5}(x)$ para la función $f(x)= cos^{-1}(x)$ en torno a $x_{0}=0.5$.\n",
    "\n",
    "1. Use $P_{5}(0.25)$ para aproximar $f(0.25)$, y determinar el error real $Ea=|f(0.25)-P_5(0.25)|$\n",
    "2. Determine una cota superior para el error $|f(0.25)-P_{5}(0.25)|$ por medio de la fórmula del error, es decir $R_{5}(0.25)$\n",
    "3. Aproxime $\\int_{0.25}^{0.5}f(x)dx$ usando $\\int_{0.25}^{0.5}P_{5}(x)dx$ y calcule el error absoluto y relativo.\n",
    "4. Aproxime $f'(0.25)$, usando $P'(0.25)$ y determinar el error real $Ea=|f'(0.25)-P'_5(0.25)|$\n",
    "5. Determine el polinomio de grado 3, 5, 10 y grafiquelos.  \n",
    "6.  Use $P_{n}(x_p)$ para aproximar $f(x_p)$, y determinar el error real $Ea=|f(x_p)-P_n(x_p)|$, para $x_p=0.2,0.4,1,1$ para un polinomio de grado $n=3,5,10$ \n",
    "\n",
    "\n",
    " El voltaje $E=E(t)$ en un circuito eléctrico obedece la ecuación $E(t)=L\\dfrac{dI(t)}{dt}+RI(t)$, donde $R$ es la resistencia, $L$  es la inductancia e $I$ es la intensidad de corriente. Consideremos $L=0.05$ henrios, $R=2$ ohmios y los valores de la intensidad $I(t)$, en amperios, que se relaciona en la siguiente tabla.\n",
    "\n",
    "\n",
    "|Tiempo t |1.0 | 1.1 | 1.2 | 1.3 | 1.4|\n",
    "|-----------|----|-----|-----|-----|----|\n",
    "|Corriente I(t)|  8.2277 | 7.2428 | 5.9908 | 4.5260 | 2.9122| \n",
    "\n",
    "1. Determine $I'(1.2)$ mediante derivación numérica y use este valor para calcular $E(1.2)$.\n"
   ]
  },
  {
   "cell_type": "code",
   "execution_count": 12,
   "metadata": {},
   "outputs": [
    {
     "name": "stdout",
     "output_type": "stream",
     "text": [
      "el valor de la derivada es: -13.288750000000004\n",
      "Voltaje en t = 1.2s: E = 11.3171625 V\n"
     ]
    }
   ],
   "source": [
    "class TaylorApproximation:\n",
    "    def __init__(self, times, distances):\n",
    "        self.times = times\n",
    "        self.distances = distances\n",
    "        self.velocities = [0.0] * len(self.times)\n",
    "\n",
    "    def forward_difference(self, i):\n",
    "        h = self.times[i+1] - self.times[i]\n",
    "        return (self.distances[i+1] - self.distances[i]) / h\n",
    "\n",
    "    def backward_difference(self, i):\n",
    "        h = self.times[i] - self.times[i-1]\n",
    "        return (self.distances[i] - self.distances[i-1]) / h\n",
    "\n",
    "    def central_difference(self, i_minus, i_plus):\n",
    "        h = self.times[i_plus] - self.times[i_minus]\n",
    "        return (self.distances[i_plus] - self.distances[i_minus]) / h\n",
    "\n",
    "    def compute_velocities(self):\n",
    "        n = len(self.times)\n",
    "\n",
    "        # Velocidad en el primer punto (aproximación hacia adelante)\n",
    "        self.velocities[0] = self.forward_difference(0)\n",
    "\n",
    "        # Velocidad en los puntos intermedios (aproximación central o hacia adelante/hacia atrás)\n",
    "        for i in range(1, n-1):\n",
    "            found_central = False\n",
    "            # Buscar el intervalo más grande posible para diferencia central\n",
    "            for j in range(1, min(i, n-i-1) + 1):\n",
    "                if self.times[i] - self.times[i-j] == self.times[i+j] - self.times[i]:\n",
    "                    self.velocities[i] = self.central_difference(i-j, i+j)\n",
    "                    found_central = True\n",
    "                    break\n",
    "\n",
    "            if not found_central:\n",
    "                # Si no se encuentra un intervalo adecuado, utilizar la diferencia hacia adelante o hacia atrás\n",
    "                if i < n // 2:\n",
    "                    self.velocities[i] = self.forward_difference(i)\n",
    "                else:\n",
    "                    self.velocities[i] = self.backward_difference(i)\n",
    "\n",
    "        # Velocidad en el último punto (aproximación hacia atrás)\n",
    "        self.velocities[-1] = self.backward_difference(n-1)\n",
    "\n",
    "        \n",
    "    def calcular_voltaje(self, x0, L, R):\n",
    "\n",
    "        self.compute_velocities()\n",
    "        I_prime = self.velocities[self.times.index(x0)]\n",
    "\n",
    "        i = self.times.index(x0)\n",
    "        I_x0 = self.distances[i]\n",
    "        print(f'el valor de la derivada es: {I_prime}')\n",
    "        return L * I_prime + R * I_x0\n",
    "\n",
    "    def display_velocities(self):\n",
    "        for i in range(len(self.times)):\n",
    "            print(f\"Velocidad en t = {self.times[i]}s: v = {self.velocities[i]} m/s\")\n",
    "\n",
    "\n",
    "times = [1.0, 1.1, 1.2, 1.3, 1.4]\n",
    "currents = [8.2277, 7.2428, 5.9908, 4.5260, 2.9122]\n",
    "\n",
    "taylor_approx = TaylorApproximation(times, currents)\n",
    "\n",
    "x0 = 1.2\n",
    "L = 0.05  \n",
    "R = 2  \n",
    "\n",
    "voltaje_x0 = taylor_approx.calcular_voltaje(x0, L, R)\n",
    "print(f\"Voltaje en t = {x0}s: E = {voltaje_x0} V\")\n"
   ]
  }
 ],
 "metadata": {
  "kernelspec": {
   "display_name": "Python 3",
   "language": "python",
   "name": "python3"
  },
  "language_info": {
   "codemirror_mode": {
    "name": "ipython",
    "version": 3
   },
   "file_extension": ".py",
   "mimetype": "text/x-python",
   "name": "python",
   "nbconvert_exporter": "python",
   "pygments_lexer": "ipython3",
   "version": "3.10.11"
  }
 },
 "nbformat": 4,
 "nbformat_minor": 2
}
